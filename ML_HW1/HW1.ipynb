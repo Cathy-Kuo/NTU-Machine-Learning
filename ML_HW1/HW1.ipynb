{
 "cells": [
  {
   "cell_type": "code",
   "execution_count": 1,
   "metadata": {},
   "outputs": [],
   "source": [
    "import random\n",
    "import numpy as np\n",
    "from tqdm import tqdm "
   ]
  },
  {
   "cell_type": "code",
   "execution_count": 2,
   "metadata": {},
   "outputs": [],
   "source": [
    "train_data = [np.array([1.0]+[float(x) for x in i.strip().split()]) for i in open(\"hw1_train.dat\").readlines()]"
   ]
  },
  {
   "cell_type": "code",
   "execution_count": 3,
   "metadata": {},
   "outputs": [
    {
     "data": {
      "text/plain": [
       "100"
      ]
     },
     "execution_count": 3,
     "metadata": {},
     "output_type": "execute_result"
    }
   ],
   "source": [
    "len(train_data)"
   ]
  },
  {
   "cell_type": "markdown",
   "metadata": {},
   "source": [
    "Q13"
   ]
  },
  {
   "cell_type": "code",
   "execution_count": 4,
   "metadata": {},
   "outputs": [
    {
     "name": "stderr",
     "output_type": "stream",
     "text": [
      "100%|██████████████████████████████████████| 1000/1000 [00:04<00:00, 235.45it/s]\n"
     ]
    }
   ],
   "source": [
    "W_pla = []\n",
    "for i in tqdm(range(1000)):\n",
    "    r_seed = i*11\n",
    "    random.seed(r_seed)\n",
    "    w = [0.0] *11\n",
    "    w = np.array(w)\n",
    "    accuracy = 0\n",
    "    while True:\n",
    "        data_id = random.randint(0,99)\n",
    "        sign = 1.0 if np.sum(w * train_data[data_id][:11]) > 0 else -1.0\n",
    "        if sign != train_data[data_id][-1]:\n",
    "            w += train_data[data_id][-1]*train_data[data_id][:11]\n",
    "            accuracy = 0\n",
    "        else:\n",
    "            accuracy += 1\n",
    "        if accuracy == 500:\n",
    "            W_pla.append(w)\n",
    "            break\n",
    "    \n",
    "\n"
   ]
  },
  {
   "cell_type": "code",
   "execution_count": null,
   "metadata": {},
   "outputs": [
    {
     "name": "stdout",
     "output_type": "stream",
     "text": [
      "389.0367704347213\n"
     ]
    }
   ],
   "source": [
    "length = 0\n",
    "for w_ in W_pla:\n",
    "    length += np.sum(np.power(w_,2))\n",
    "print(length/1000)"
   ]
  },
  {
   "cell_type": "markdown",
   "metadata": {},
   "source": [
    "Q14"
   ]
  },
  {
   "cell_type": "code",
   "execution_count": 6,
   "metadata": {},
   "outputs": [],
   "source": [
    "for idx in range(100):\n",
    "    train_data[idx][:11] = train_data[idx][:11]*2"
   ]
  },
  {
   "cell_type": "code",
   "execution_count": 7,
   "metadata": {},
   "outputs": [
    {
     "name": "stderr",
     "output_type": "stream",
     "text": [
      "100%|██████████████████████████████████████| 1000/1000 [00:04<00:00, 237.25it/s]\n"
     ]
    }
   ],
   "source": [
    "W_pla = []\n",
    "for i in tqdm(range(1000)):\n",
    "    r_seed = i*11\n",
    "    random.seed(r_seed)\n",
    "    w = [0.0] *11\n",
    "    w = np.array(w)\n",
    "    accuracy = 0\n",
    "    while True:\n",
    "        data_id = random.randint(0,99)\n",
    "        sign = 1.0 if np.sum(w * train_data[data_id][:11]) > 0 else -1.0\n",
    "        if sign != train_data[data_id][-1]:\n",
    "            w += train_data[data_id][-1]*train_data[data_id][:11]\n",
    "            accuracy = 0\n",
    "        else:\n",
    "            accuracy += 1\n",
    "        if accuracy == 500:\n",
    "            W_pla.append(w)\n",
    "            break\n",
    "    \n"
   ]
  },
  {
   "cell_type": "code",
   "execution_count": 8,
   "metadata": {},
   "outputs": [
    {
     "name": "stdout",
     "output_type": "stream",
     "text": [
      "1556.1470817388852\n"
     ]
    }
   ],
   "source": [
    "length = 0\n",
    "for w_ in W_pla:\n",
    "    length += np.sum(np.power(w_,2))\n",
    "print(length/1000)"
   ]
  },
  {
   "cell_type": "markdown",
   "metadata": {},
   "source": [
    "Q15"
   ]
  },
  {
   "cell_type": "code",
   "execution_count": 10,
   "metadata": {},
   "outputs": [],
   "source": [
    "for idx in range(100):\n",
    "    l = np.sqrt(np.sum(np.power(train_data[idx][:11],2)))\n",
    "    train_data[idx][:11] = train_data[idx][:11]/l"
   ]
  },
  {
   "cell_type": "code",
   "execution_count": 11,
   "metadata": {},
   "outputs": [
    {
     "name": "stderr",
     "output_type": "stream",
     "text": [
      "100%|██████████████████████████████████████| 1000/1000 [00:04<00:00, 241.27it/s]\n"
     ]
    }
   ],
   "source": [
    "W_pla = []\n",
    "for i in tqdm(range(1000)):\n",
    "    r_seed = i*11\n",
    "    random.seed(r_seed)\n",
    "    w = [0.0] *11\n",
    "    w = np.array(w)\n",
    "    accuracy = 0\n",
    "    while True:\n",
    "        data_id = random.randint(0,99)\n",
    "        sign = 1.0 if np.sum(w * train_data[data_id][:11]) > 0 else -1.0\n",
    "        if sign != train_data[data_id][-1]:\n",
    "            w += train_data[data_id][-1]*train_data[data_id][:11]\n",
    "            accuracy = 0\n",
    "        else:\n",
    "            accuracy += 1\n",
    "        if accuracy == 500:\n",
    "            W_pla.append(w)\n",
    "            break\n",
    "    \n"
   ]
  },
  {
   "cell_type": "code",
   "execution_count": 12,
   "metadata": {},
   "outputs": [
    {
     "name": "stdout",
     "output_type": "stream",
     "text": [
      "7.1329016105828575\n"
     ]
    }
   ],
   "source": [
    "length = 0\n",
    "for w_ in W_pla:\n",
    "    length += np.sum(np.power(w_,2))\n",
    "print(length/1000)"
   ]
  },
  {
   "cell_type": "markdown",
   "metadata": {},
   "source": [
    "Q16"
   ]
  },
  {
   "cell_type": "code",
   "execution_count": 16,
   "metadata": {},
   "outputs": [],
   "source": [
    "train_data = [np.array([0.0]+[float(x) for x in i.strip().split()]) for i in open(\"hw1_train.dat\").readlines()]"
   ]
  },
  {
   "cell_type": "code",
   "execution_count": 17,
   "metadata": {},
   "outputs": [
    {
     "name": "stderr",
     "output_type": "stream",
     "text": [
      "100%|██████████████████████████████████████| 1000/1000 [00:05<00:00, 187.55it/s]\n"
     ]
    }
   ],
   "source": [
    "W_pla = []\n",
    "for i in tqdm(range(1000)):\n",
    "    r_seed = i*11\n",
    "    random.seed(r_seed)\n",
    "    w = [0.0] *11\n",
    "    w = np.array(w)\n",
    "    accuracy = 0\n",
    "    while True:\n",
    "        data_id = random.randint(0,99)\n",
    "        sign = 1.0 if np.sum(w * train_data[data_id][:11]) > 0 else -1.0\n",
    "        if sign != train_data[data_id][-1]:\n",
    "            w += train_data[data_id][-1]*train_data[data_id][:11]\n",
    "            accuracy = 0\n",
    "        else:\n",
    "            accuracy += 1\n",
    "        if accuracy == 500:\n",
    "            W_pla.append(w)\n",
    "            break\n",
    "    \n"
   ]
  },
  {
   "cell_type": "code",
   "execution_count": 18,
   "metadata": {},
   "outputs": [
    {
     "name": "stdout",
     "output_type": "stream",
     "text": [
      "531.0542415253074\n"
     ]
    }
   ],
   "source": [
    "length = 0\n",
    "for w_ in W_pla:\n",
    "    length += np.sum(np.power(w_,2))\n",
    "print(length/1000)"
   ]
  },
  {
   "cell_type": "code",
   "execution_count": null,
   "metadata": {},
   "outputs": [],
   "source": []
  }
 ],
 "metadata": {
  "kernelspec": {
   "display_name": "Python 3",
   "language": "python",
   "name": "python3"
  },
  "language_info": {
   "codemirror_mode": {
    "name": "ipython",
    "version": 3
   },
   "file_extension": ".py",
   "mimetype": "text/x-python",
   "name": "python",
   "nbconvert_exporter": "python",
   "pygments_lexer": "ipython3",
   "version": "3.7.4"
  }
 },
 "nbformat": 4,
 "nbformat_minor": 5
}
